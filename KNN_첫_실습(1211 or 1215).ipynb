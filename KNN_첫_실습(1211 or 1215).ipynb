{
  "nbformat": 4,
  "nbformat_minor": 0,
  "metadata": {
    "colab": {
      "name": "KNN_첫_실습(1211).ipynb",
      "provenance": [],
      "collapsed_sections": []
    },
    "kernelspec": {
      "name": "python3",
      "display_name": "Python 3"
    }
  },
  "cells": [
    {
      "cell_type": "markdown",
      "metadata": {
        "id": "Sra1pAU5hDik"
      },
      "source": [
        "# **K = 1 일때, KNN 알고리즘** (Manhattan Distance)"
      ]
    },
    {
      "cell_type": "code",
      "metadata": {
        "id": "PLc2SGBEfUh-"
      },
      "source": [
        "import numpy as np"
      ],
      "execution_count": 1,
      "outputs": []
    },
    {
      "cell_type": "code",
      "metadata": {
        "id": "GcOu6qiefL7q"
      },
      "source": [
        "def generate_random_points(size=10, low=0, high=1):\r\n",
        "  return (high - low) * np.random.random_sample((size, 2)) + low"
      ],
      "execution_count": 2,
      "outputs": []
    },
    {
      "cell_type": "code",
      "metadata": {
        "id": "HyECnVjpfMV2"
      },
      "source": [
        "red_points = generate_random_points(20, 0, 1)\r\n",
        "blue_points = generate_random_points(20, 1, 2)"
      ],
      "execution_count": 3,
      "outputs": []
    },
    {
      "cell_type": "code",
      "metadata": {
        "id": "ITlnDooQfMX1"
      },
      "source": [
        "def prepare_test_samples(low=0, high=2, step=0.01):\r\n",
        "  range = [low, high]\r\n",
        "  grid = np.mgrid[low:high+step:step, low:high+step:step]\r\n",
        "  test_points = np.vstack([grid[0].ravel(), grid[1].ravel()]).T\r\n",
        "  return test_points"
      ],
      "execution_count": 4,
      "outputs": []
    },
    {
      "cell_type": "code",
      "metadata": {
        "id": "8cJd7OkigrOk"
      },
      "source": [
        "t = prepare_test_samples()"
      ],
      "execution_count": 5,
      "outputs": []
    },
    {
      "cell_type": "code",
      "metadata": {
        "id": "6zDVTSKwlhcn"
      },
      "source": [
        "def predict(*colored_points, test):\r\n",
        "\r\n",
        "    labels_of_x = [i * np.ones(a_color.shape[0], dtype=np.int) for i, a_color in enumerate(colored_points)] \r\n",
        "    labels_of_x = np.array(labels_of_x).ravel()\r\n",
        "\r\n",
        "    known_points = np.concatenate(colored_points, axis=0)\r\n",
        "\r\n",
        "    predictions = []\r\n",
        "    for test_point in test:\r\n",
        "      all_distances_from_test_point = np.sum(np.abs(known_points - test_point), axis=1)\r\n",
        "      min_index = np.argmin(all_distances_from_test_point)\r\n",
        "      predictions.append(labels_of_x[min_index])\r\n",
        "    return predictions"
      ],
      "execution_count": 6,
      "outputs": []
    },
    {
      "cell_type": "code",
      "metadata": {
        "id": "AeMFJbRLlr0u"
      },
      "source": [
        "a = predict(red_points, blue_points, test=t)"
      ],
      "execution_count": 7,
      "outputs": []
    },
    {
      "cell_type": "code",
      "metadata": {
        "colab": {
          "base_uri": "https://localhost:8080/"
        },
        "id": "2U1W5nm-ttCN",
        "outputId": "653ccd02-34c3-438e-9562-30157c32806f"
      },
      "source": [
        "type(a)"
      ],
      "execution_count": 8,
      "outputs": [
        {
          "output_type": "execute_result",
          "data": {
            "text/plain": [
              "list"
            ]
          },
          "metadata": {
            "tags": []
          },
          "execution_count": 8
        }
      ]
    },
    {
      "cell_type": "code",
      "metadata": {
        "colab": {
          "base_uri": "https://localhost:8080/"
        },
        "id": "cFQoz7pxt2AG",
        "outputId": "a3378565-3cc9-4666-a138-338198c942eb"
      },
      "source": [
        "sum(a)"
      ],
      "execution_count": 9,
      "outputs": [
        {
          "output_type": "execute_result",
          "data": {
            "text/plain": [
              "21268"
            ]
          },
          "metadata": {
            "tags": []
          },
          "execution_count": 9
        }
      ]
    },
    {
      "cell_type": "code",
      "metadata": {
        "colab": {
          "base_uri": "https://localhost:8080/"
        },
        "id": "eyJ8PYGIt8KT",
        "outputId": "bf276bc3-0ce9-437f-ddb8-9fb9b91be264"
      },
      "source": [
        "max(a)"
      ],
      "execution_count": 10,
      "outputs": [
        {
          "output_type": "execute_result",
          "data": {
            "text/plain": [
              "1"
            ]
          },
          "metadata": {
            "tags": []
          },
          "execution_count": 10
        }
      ]
    },
    {
      "cell_type": "code",
      "metadata": {
        "colab": {
          "base_uri": "https://localhost:8080/"
        },
        "id": "WADjMwNSt-AR",
        "outputId": "964c429e-3be1-4b25-c7ea-c8f4110791e9"
      },
      "source": [
        "len(a)"
      ],
      "execution_count": 11,
      "outputs": [
        {
          "output_type": "execute_result",
          "data": {
            "text/plain": [
              "40401"
            ]
          },
          "metadata": {
            "tags": []
          },
          "execution_count": 11
        }
      ]
    },
    {
      "cell_type": "markdown",
      "metadata": {
        "id": "WIgswSZKuN5E"
      },
      "source": [
        "## **그림으로 나타내기**"
      ]
    },
    {
      "cell_type": "code",
      "metadata": {
        "id": "xS6h-Tr6uCJZ"
      },
      "source": [
        "import matplotlib.pyplot as plt"
      ],
      "execution_count": 12,
      "outputs": []
    },
    {
      "cell_type": "code",
      "metadata": {
        "id": "wodvzFLKuYdg"
      },
      "source": [
        "def draw(*colored_points, test, title=''):\r\n",
        "  _, frame = plt.subplots(dpi=70)\r\n",
        "  frame.set_title(title)\r\n",
        "  mpl_colors = ('r', 'b', 'g', 'c', 'm', 'y', 'k', 'w')\r\n",
        "\r\n",
        "############################################################################\r\n",
        "  for i, x in enumerate(colored_points):\r\n",
        "    frame.plot(*x.T, mpl_colors[i] + 'o')\r\n",
        "\r\n",
        "############################################################################    \r\n",
        "  number_of_classes = len(colored_points)\r\n",
        "\r\n",
        "  classified = []\r\n",
        "  for a_class in range(number_of_classes):\r\n",
        "    class_i = np.array([test[i] for i, l in enumerate(a) if l == a_class])\r\n",
        "    classified.append(class_i)\r\n",
        "\r\n",
        "  for i, x in enumerate(classified):\r\n",
        "    frame.plot(*x.T, mpl_colors[i] + ',')\r\n",
        "\r\n",
        "  return frame"
      ],
      "execution_count": 13,
      "outputs": []
    },
    {
      "cell_type": "code",
      "metadata": {
        "colab": {
          "base_uri": "https://localhost:8080/",
          "height": 293
        },
        "id": "bRKEhCEfuYfZ",
        "outputId": "f15b702e-71d8-420b-d7ab-9b854ba6bbde"
      },
      "source": [
        "draw(red_points, blue_points, test = t, title='My First KNN Picture')"
      ],
      "execution_count": 14,
      "outputs": [
        {
          "output_type": "execute_result",
          "data": {
            "text/plain": [
              "<matplotlib.axes._subplots.AxesSubplot at 0x7faf5fd9a0f0>"
            ]
          },
          "metadata": {
            "tags": []
          },
          "execution_count": 14
        },
        {
          "output_type": "display_data",
          "data": {
            "image/png": "[encoded data removed]",
            "text/plain": [
              "<Figure size 420x280 with 1 Axes>"
            ]
          },
          "metadata": {
            "tags": [],
            "needs_background": "light"
          }
        }
      ]
    },
    {
      "cell_type": "code",
      "metadata": {
        "id": "ralUmzfr3_qk"
      },
      "source": [
        "plt.style.use('default')\r\n",
        "plt.style.use('seaborn-talk')"
      ],
      "execution_count": 15,
      "outputs": []
    },
    {
      "cell_type": "code",
      "metadata": {
        "id": "x4cam8f24ArU",
        "outputId": "58424ebd-fb73-4138-e05a-85ab282e40ac",
        "colab": {
          "base_uri": "https://localhost:8080/",
          "height": 477
        }
      },
      "source": [
        "draw(red_points, blue_points, test = t, title='My First KNN Picture')"
      ],
      "execution_count": 16,
      "outputs": [
        {
          "output_type": "execute_result",
          "data": {
            "text/plain": [
              "<matplotlib.axes._subplots.AxesSubplot at 0x7faf5fbf70f0>"
            ]
          },
          "metadata": {
            "tags": []
          },
          "execution_count": 16
        },
        {
          "output_type": "display_data",
          "data": {
            "image/png": "[encoded data removed]",
            "text/plain": [
              "<Figure size 728x500.5 with 1 Axes>"
            ]
          },
          "metadata": {
            "tags": []
          }
        }
      ]
    }
  ]
}